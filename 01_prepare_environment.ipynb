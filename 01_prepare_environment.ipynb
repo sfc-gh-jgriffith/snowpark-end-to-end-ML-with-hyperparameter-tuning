{
 "cells": [
  {
   "cell_type": "code",
   "execution_count": null,
   "id": "5cf216be",
   "metadata": {},
   "outputs": [],
   "source": [
    "import json\n",
    "from snowflake.snowpark.session import Session\n",
    "\n",
    "# Reading Snowflake Connection Details\n",
    "snowflake_connection_cfg = json.loads(open('creds.json').read())\n",
    "\n",
    "# Creating Snowpark Session\n",
    "session = Session.builder.configs(snowflake_connection_cfg).create()\n",
    "\n",
    "# Create a fresh & new schema\n",
    "session.sql('create database snowpark_demo_db').collect()\n",
    "session.sql('CREATE OR REPLACE SCHEMA snowpark_demo_db.MEMBERSHIP_MODELING_DEMO').collect()\n",
    "session.use_schema('snowpark_demo_db.MEMBERSHIP_MODELING_DEMO')"
   ]
  },
  {
   "cell_type": "code",
   "execution_count": null,
   "id": "56fc13f9",
   "metadata": {},
   "outputs": [],
   "source": [
    "session.sql(\"create or replace warehouse snowpark_demo_wh with warehouse_size='LARGE'\").collect()\n"
   ]
  },
  {
   "cell_type": "code",
   "execution_count": null,
   "id": "ef12d534",
   "metadata": {},
   "outputs": [],
   "source": [
    "session.sql(\"create or replace warehouse snowpark_demo_wh_high_mem with warehouse_size='MEDIUM' and warehouse_type='SNOWPARK_OPTIMIZED'\").collect();"
   ]
  },
  {
   "cell_type": "code",
   "execution_count": null,
   "id": "7bcfaceb",
   "metadata": {},
   "outputs": [],
   "source": [
    "# Function to generate Data Creation SQL\n",
    "def generate_data(table_name, num_rows):\n",
    "    generate_data_sql = \"\"\"\n",
    "    -- Create fake data\n",
    "    create or replace table {} (email string, gender string, MEMBERSHIP_STATUS string,  MEMBERSHIP_LENGTH double, AVG_SESSION_LENGTH double, TIME_ON_APP double, TIME_ON_WEBSITE double, YEARLY_SPENT double) as \n",
    "    with profiles as (\n",
    "    select concat(lower(randstr(10, random())), '@', lower(randstr(5, random())), '.com') as EMAIL,\n",
    "           case when uniform(1,10,random())<=6 then 'MALE'\n",
    "                when uniform(1,10,random())<=9 then 'FEMALE'\n",
    "                else 'UNKNOWN'\n",
    "           end as GENDER,\n",
    "           greatest(0, normal(45000,15000,random())) / 100 as YEARLY_SPENT,\n",
    "           case when YEARLY_SPENT*normal(1, .05, random()) < 150 then 'BASIC'\n",
    "                when YEARLY_SPENT*normal(1, .05, random()) < 250 then 'BRONZE'\n",
    "                when YEARLY_SPENT*normal(1, .05, random()) < 350 then 'SILVER'\n",
    "                when YEARLY_SPENT*normal(1, .05, random()) < 550 then 'GOLD'\n",
    "                when YEARLY_SPENT*normal(1, .05, random()) < 650 then 'PLATIN'\n",
    "                else 'DIAMOND'\n",
    "           end as MEMBERSHIP_STATUS,\n",
    "           case when YEARLY_SPENT*normal(1, .1, random()) < 150 then null\n",
    "                when YEARLY_SPENT*normal(1, .1, random()) < 250 then greatest(0, normal(50,50,random())) / 100\n",
    "                when YEARLY_SPENT*normal(1, .1, random()) < 350 then greatest(0, normal(300,100,random())) / 100\n",
    "                when YEARLY_SPENT*normal(1, .15, random()) < 550 then greatest(0, normal(425,125,random())) / 100\n",
    "                when YEARLY_SPENT*normal(1, .2, random()) < 650 then greatest(0, normal(625,135,random())) / 100\n",
    "                else greatest(0, normal(850,140,random())) / 100\n",
    "           end as MEMBERSHIP_LENGTH,\n",
    "           case when YEARLY_SPENT*normal(1, .1, random()) < 120 then null\n",
    "                when YEARLY_SPENT*normal(1, .1, random()) < 150 then greatest(0, normal(600,50,random())) / 100\n",
    "                when YEARLY_SPENT*normal(1, .1, random()) < 250 then greatest(0, normal(850,75,random())) / 100\n",
    "                when YEARLY_SPENT*normal(1, .1, random()) < 350 then greatest(0, normal(1450,200,random())) / 100\n",
    "                when YEARLY_SPENT*normal(1, .1, random()) < 550 then greatest(0, normal(2400,300,random())) / 100\n",
    "                when YEARLY_SPENT*normal(1, .1, random()) < 650 then greatest(0, normal(2700,400,random())) / 100\n",
    "                else greatest(0, normal(3500,500,random())) / 100\n",
    "           end as AVG_SESSION_LENGTH,\n",
    "           case when YEARLY_SPENT < 150 then normal(5000,1000,random()) / 100\n",
    "                when YEARLY_SPENT < 250 then normal(7300,2000,random()) / 100\n",
    "                when YEARLY_SPENT < 350 then normal(9500,2000,random()) / 100\n",
    "                when YEARLY_SPENT < 370 then normal(12500,3000,random()) / 100\n",
    "                when YEARLY_SPENT < 550 then normal(19000,2000,random()) / 100\n",
    "                when YEARLY_SPENT < 650 then normal(25000,2000,random()) / 100\n",
    "                else normal(30000,2000,random()) / 100\n",
    "           end as TIME_ON_APP,\n",
    "           case when YEARLY_SPENT*normal(1, .1, random()) < 300 then normal(5000,1000,random()) / 100\n",
    "                when YEARLY_SPENT*normal(1, .05, random()) < 500 then normal(7000,2500,random()) / 100\n",
    "                when YEARLY_SPENT*normal(1, .1, random()) < 520 then normal(7000,2500,random()) / 100\n",
    "                else normal(12000,1000,random()) / 100\n",
    "           end as TIME_ON_WEBSITE\n",
    "    from table(generator(rowcount=>{})))\n",
    "    select email, gender, MEMBERSHIP_STATUS, MEMBERSHIP_LENGTH, AVG_SESSION_LENGTH, TIME_ON_APP, TIME_ON_WEBSITE, YEARLY_SPENT*normal(1, .05, random()) as YEARLY_SPENT from profiles;\n",
    "    \"\"\".format(table_name, num_rows)\n",
    "    return generate_data_sql"
   ]
  },
  {
   "cell_type": "code",
   "execution_count": null,
   "id": "8a47c31c",
   "metadata": {},
   "outputs": [],
   "source": [
    "session.sql('alter warehouse SNOWPARK_DEMO_WH set warehouse_size=xxlarge;').collect()\n",
    "\n",
    "# Generating sample data\n",
    "# 10 thoursand rows\n",
    "session.sql(generate_data('ECOMMERCE_CUSTOMERS_10K', 10000)).collect()\n",
    "# 100 thoursand rows\n",
    "session.sql(generate_data('ECOMMERCE_CUSTOMERS_100K', 100000)).collect()\n",
    "# 1 million rows\n",
    "session.sql(generate_data('ECOMMERCE_CUSTOMERS_1M', 1000000)).collect()\n",
    "# 100 million rows\n",
    "session.sql(generate_data('ECOMMERCE_CUSTOMERS_100M', 100000000)).collect()\n",
    "\n",
    "session.sql('alter warehouse SNOWPARK_DEMO_WH set warehouse_size=xsmall;').collect()"
   ]
  },
  {
   "cell_type": "code",
   "execution_count": null,
   "id": "76185707",
   "metadata": {},
   "outputs": [],
   "source": []
  }
 ],
 "metadata": {
  "kernelspec": {
   "display_name": "Python 3.8.13 ('python38')",
   "language": "python",
   "name": "python3"
  },
  "language_info": {
   "codemirror_mode": {
    "name": "ipython",
    "version": 3
   },
   "file_extension": ".py",
   "mimetype": "text/x-python",
   "name": "python",
   "nbconvert_exporter": "python",
   "pygments_lexer": "ipython3",
   "version": "3.8.13"
  },
  "vscode": {
   "interpreter": {
    "hash": "c3936427f812f8a3b02bf49cc509604512195fa3b84dfb4bd944ad6383ea3533"
   }
  }
 },
 "nbformat": 4,
 "nbformat_minor": 5
}
