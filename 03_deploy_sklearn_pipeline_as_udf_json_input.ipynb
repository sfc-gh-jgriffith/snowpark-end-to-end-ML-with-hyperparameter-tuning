{
 "cells": [
  {
   "cell_type": "markdown",
   "metadata": {},
   "source": [
    "# END TO END ML USING SNOWPARK AND SCIKIT-LEARN\n",
    "\n",
    "In this notebook we fit/train a Scikit-Learn ML pipeline that includes common feature engineering tasks such as Imputations, Scaling and One-Hot Encoding. The pipeline also includes a `RandomForestRegressor` model that will predict member lifetime value for ecommerce customers. \n",
    "\n",
    "We will fit/train the pipeline using a Snowpark Python Stored Procedure (SPROC) and then save the pipeline to a Snowflake stage. This example concludes by showing how a saved model/pipeline can be loaded and run in a scalable fashion on a snowflake warehouse using Snowpark Python User-Defined Functions (UDFs). \n",
    "\n",
    "![Snowpark ML](images/snowpark_ml.png)"
   ]
  },
  {
   "cell_type": "markdown",
   "metadata": {},
   "source": [
    "### Create a session with Snowpark connector"
   ]
  },
  {
   "cell_type": "code",
   "execution_count": 5,
   "metadata": {},
   "outputs": [],
   "source": [
    "# Snowpark\n",
    "import snowflake.snowpark\n",
    "import snowflake.snowpark.functions as F\n",
    "from snowflake.snowpark.functions import sproc, udf, udtf, pandas_udf, col\n",
    "from snowflake.snowpark.session import Session\n",
    "from snowflake.snowpark import version as v\n",
    "from snowflake.snowpark import types as T\n",
    "from snowflake.snowpark.window import Window\n",
    "import json\n",
    "\n",
    "from sklearn.impute import SimpleImputer\n",
    "from sklearn.pipeline import Pipeline\n",
    "from sklearn.preprocessing import StandardScaler\n",
    "from sklearn.preprocessing import OneHotEncoder\n",
    "from sklearn.compose import ColumnTransformer\n",
    "from sklearn.ensemble import RandomForestRegressor\n",
    "from sklearn.metrics import mean_squared_error\n",
    "from sklearn.model_selection import train_test_split\n",
    "\n",
    "\n",
    "import pandas as pd\n",
    "from cachetools import cached\n",
    "import sys \n",
    "import numpy as np\n",
    "import datetime\n",
    "import io\n",
    "import os\n",
    "import joblib"
   ]
  },
  {
   "cell_type": "code",
   "execution_count": 2,
   "metadata": {},
   "outputs": [
    {
     "name": "stderr",
     "output_type": "stream",
     "text": [
      "The version of package cachetools in the local environment is 5.3.0, which does not fit the criteria for the requirement cachetools. Your UDF might not work when the package version is different between the server and your local environment\n"
     ]
    }
   ],
   "source": [
    "with open('creds.json') as f:\n",
    "    connection_parameters = json.load(f)\n",
    "\n",
    "session = Session.builder.configs(connection_parameters).create()\n",
    "session.add_packages('snowflake-snowpark-python', 'scikit-learn', 'pandas', 'numpy', 'joblib', 'cachetools')"
   ]
  },
  {
   "cell_type": "code",
   "execution_count": 3,
   "metadata": {},
   "outputs": [
    {
     "name": "stdout",
     "output_type": "stream",
     "text": [
      "\n",
      "    ROLE: \"SYSADMIN\"\n",
      "    DATABASE: \"SNOWPARK_DEMO_DB\"\n",
      "    SCHEMA: \"MEMBERSHIP_MODELING_DEMO\"\n",
      "    WAREHOUSE: \"SNOWPARK_DEMO_WH\"\n",
      "\n"
     ]
    }
   ],
   "source": [
    "print(f\"\"\"\n",
    "    ROLE: {session.get_current_role()}\n",
    "    DATABASE: {session.get_current_database()}\n",
    "    SCHEMA: {session.get_current_schema()}\n",
    "    WAREHOUSE: {session.get_current_warehouse()}\n",
    "\"\"\")"
   ]
  },
  {
   "cell_type": "markdown",
   "metadata": {},
   "source": [
    "### Create stages to save the ML model/pipeline and permanent UDFs"
   ]
  },
  {
   "cell_type": "code",
   "execution_count": 4,
   "metadata": {},
   "outputs": [
    {
     "data": {
      "text/plain": [
       "[Row(status='Stage area MODELS successfully created.')]"
      ]
     },
     "execution_count": 4,
     "metadata": {},
     "output_type": "execute_result"
    }
   ],
   "source": [
    "query = \"create or replace stage models\" +\\\n",
    "        \" directory = (enable = true)\" +\\\n",
    "        \" copy_options = (on_error='skip_file')\"\n",
    "\n",
    "session.sql(query).collect()"
   ]
  },
  {
   "cell_type": "code",
   "execution_count": null,
   "metadata": {},
   "outputs": [],
   "source": [
    "query = \"create or replace stage udf\" +\\\n",
    "        \" copy_options = (on_error='skip_file')\"\n",
    "\n",
    "session.sql(query).collect()\n",
    "session.file.put(\"preprocessing.zip\", '@udf', auto_compress=False, overwrite=True)     "
   ]
  },
  {
   "cell_type": "markdown",
   "metadata": {},
   "source": [
    "## Explore Snowflake data using Snowpark"
   ]
  },
  {
   "cell_type": "code",
   "execution_count": 7,
   "metadata": {},
   "outputs": [],
   "source": [
    "snowdf = session.table(\"ECOMMERCE_CUSTOMERS_100K_JSON\")\n",
    "cat_attribs = ['GENDER','MEMBERSHIP_STATUS']\n",
    "num_attribs = ['MEMBERSHIP_LENGTH', 'AVG_SESSION_LENGTH', 'TIME_ON_APP', 'TIME_ON_WEBSITE']\n",
    "model_features = cat_attribs + num_attribs"
   ]
  },
  {
   "cell_type": "code",
   "execution_count": 8,
   "metadata": {},
   "outputs": [
    {
     "data": {
      "text/html": [
       "<div>\n",
       "<style scoped>\n",
       "    .dataframe tbody tr th:only-of-type {\n",
       "        vertical-align: middle;\n",
       "    }\n",
       "\n",
       "    .dataframe tbody tr th {\n",
       "        vertical-align: top;\n",
       "    }\n",
       "\n",
       "    .dataframe thead th {\n",
       "        text-align: right;\n",
       "    }\n",
       "</style>\n",
       "<table border=\"1\" class=\"dataframe\">\n",
       "  <thead>\n",
       "    <tr style=\"text-align: right;\">\n",
       "      <th></th>\n",
       "      <th>JSON</th>\n",
       "    </tr>\n",
       "  </thead>\n",
       "  <tbody>\n",
       "    <tr>\n",
       "      <th>0</th>\n",
       "      <td>{\\n  \"AVG_SESSION_LENGTH\": 1.908812963760560e+...</td>\n",
       "    </tr>\n",
       "    <tr>\n",
       "      <th>1</th>\n",
       "      <td>{\\n  \"AVG_SESSION_LENGTH\": 2.051533536584287e+...</td>\n",
       "    </tr>\n",
       "    <tr>\n",
       "      <th>2</th>\n",
       "      <td>{\\n  \"AVG_SESSION_LENGTH\": 2.026216058545151e+...</td>\n",
       "    </tr>\n",
       "    <tr>\n",
       "      <th>3</th>\n",
       "      <td>{\\n  \"AVG_SESSION_LENGTH\": 2.052869179339092e+...</td>\n",
       "    </tr>\n",
       "    <tr>\n",
       "      <th>4</th>\n",
       "      <td>{\\n  \"AVG_SESSION_LENGTH\": 2.280240170727906e+...</td>\n",
       "    </tr>\n",
       "    <tr>\n",
       "      <th>...</th>\n",
       "      <td>...</td>\n",
       "    </tr>\n",
       "    <tr>\n",
       "      <th>95</th>\n",
       "      <td>{\\n  \"AVG_SESSION_LENGTH\": 2.727567630620153e+...</td>\n",
       "    </tr>\n",
       "    <tr>\n",
       "      <th>96</th>\n",
       "      <td>{\\n  \"AVG_SESSION_LENGTH\": 2.988700168582572e+...</td>\n",
       "    </tr>\n",
       "    <tr>\n",
       "      <th>97</th>\n",
       "      <td>{\\n  \"AVG_SESSION_LENGTH\": 8.309598674000878e+...</td>\n",
       "    </tr>\n",
       "    <tr>\n",
       "      <th>98</th>\n",
       "      <td>{\\n  \"AVG_SESSION_LENGTH\": 2.553961243389771e+...</td>\n",
       "    </tr>\n",
       "    <tr>\n",
       "      <th>99</th>\n",
       "      <td>{\\n  \"AVG_SESSION_LENGTH\": 1.959959803102452e+...</td>\n",
       "    </tr>\n",
       "  </tbody>\n",
       "</table>\n",
       "<p>100 rows × 1 columns</p>\n",
       "</div>"
      ],
      "text/plain": [
       "                                                 JSON\n",
       "0   {\\n  \"AVG_SESSION_LENGTH\": 1.908812963760560e+...\n",
       "1   {\\n  \"AVG_SESSION_LENGTH\": 2.051533536584287e+...\n",
       "2   {\\n  \"AVG_SESSION_LENGTH\": 2.026216058545151e+...\n",
       "3   {\\n  \"AVG_SESSION_LENGTH\": 2.052869179339092e+...\n",
       "4   {\\n  \"AVG_SESSION_LENGTH\": 2.280240170727906e+...\n",
       "..                                                ...\n",
       "95  {\\n  \"AVG_SESSION_LENGTH\": 2.727567630620153e+...\n",
       "96  {\\n  \"AVG_SESSION_LENGTH\": 2.988700168582572e+...\n",
       "97  {\\n  \"AVG_SESSION_LENGTH\": 8.309598674000878e+...\n",
       "98  {\\n  \"AVG_SESSION_LENGTH\": 2.553961243389771e+...\n",
       "99  {\\n  \"AVG_SESSION_LENGTH\": 1.959959803102452e+...\n",
       "\n",
       "[100 rows x 1 columns]"
      ]
     },
     "execution_count": 8,
     "metadata": {},
     "output_type": "execute_result"
    }
   ],
   "source": [
    "snowdf.limit(100).to_pandas()"
   ]
  },
  {
   "cell_type": "markdown",
   "metadata": {},
   "source": [
    "Add structure to our semi-structured data for analysis."
   ]
  },
  {
   "cell_type": "code",
   "execution_count": 9,
   "metadata": {},
   "outputs": [],
   "source": [
    "snowdf_normalized = snowdf.select(\n",
    "     col(\"JSON\")['GENDER'].cast(T.StringType()).as_('GENDER'),\n",
    "     col(\"JSON\")['MEMBERSHIP_STATUS'].cast(T.StringType()).as_('MEMBERSHIP_STATUS'),\n",
    "     col(\"JSON\")['MEMBERSHIP_LENGTH'].cast(T.FloatType()).as_('MEMBERSHIP_LENGTH'),\n",
    "     col(\"JSON\")['AVG_SESSION_LENGTH'].cast(T.FloatType()).as_('AVG_SESSION_LENGTH'),\n",
    "     col(\"JSON\")['TIME_ON_APP'].cast(T.FloatType()).as_('TIME_ON_APP'),\n",
    "     col(\"JSON\")['TIME_ON_WEBSITE'].cast(T.FloatType()).as_('TIME_ON_WEBSITE')\n",
    ")"
   ]
  },
  {
   "cell_type": "markdown",
   "metadata": {},
   "source": [
    "Or use some Python shortcuts"
   ]
  },
  {
   "cell_type": "code",
   "execution_count": 10,
   "metadata": {},
   "outputs": [],
   "source": [
    "snowdf_normalized = snowdf.select(\n",
    "        *[col(\"JSON\")[f].astype(T.StringType()).as_(f) for f in cat_attribs],\n",
    "        *[col(\"JSON\")[f].astype(T.FloatType()).as_(f) for f in num_attribs],\n",
    ")"
   ]
  },
  {
   "cell_type": "code",
   "execution_count": 11,
   "metadata": {},
   "outputs": [
    {
     "data": {
      "text/html": [
       "<div>\n",
       "<style scoped>\n",
       "    .dataframe tbody tr th:only-of-type {\n",
       "        vertical-align: middle;\n",
       "    }\n",
       "\n",
       "    .dataframe tbody tr th {\n",
       "        vertical-align: top;\n",
       "    }\n",
       "\n",
       "    .dataframe thead th {\n",
       "        text-align: right;\n",
       "    }\n",
       "</style>\n",
       "<table border=\"1\" class=\"dataframe\">\n",
       "  <thead>\n",
       "    <tr style=\"text-align: right;\">\n",
       "      <th></th>\n",
       "      <th>GENDER</th>\n",
       "      <th>MEMBERSHIP_STATUS</th>\n",
       "      <th>MEMBERSHIP_LENGTH</th>\n",
       "      <th>AVG_SESSION_LENGTH</th>\n",
       "      <th>TIME_ON_APP</th>\n",
       "      <th>TIME_ON_WEBSITE</th>\n",
       "    </tr>\n",
       "  </thead>\n",
       "  <tbody>\n",
       "    <tr>\n",
       "      <th>0</th>\n",
       "      <td>MALE</td>\n",
       "      <td>GOLD</td>\n",
       "      <td>1.876116</td>\n",
       "      <td>19.088130</td>\n",
       "      <td>197.696670</td>\n",
       "      <td>85.172298</td>\n",
       "    </tr>\n",
       "    <tr>\n",
       "      <th>1</th>\n",
       "      <td>MALE</td>\n",
       "      <td>GOLD</td>\n",
       "      <td>4.134936</td>\n",
       "      <td>20.515335</td>\n",
       "      <td>187.332228</td>\n",
       "      <td>107.133942</td>\n",
       "    </tr>\n",
       "    <tr>\n",
       "      <th>2</th>\n",
       "      <td>MALE</td>\n",
       "      <td>GOLD</td>\n",
       "      <td>2.172417</td>\n",
       "      <td>20.262161</td>\n",
       "      <td>218.383329</td>\n",
       "      <td>64.196458</td>\n",
       "    </tr>\n",
       "    <tr>\n",
       "      <th>3</th>\n",
       "      <td>UNKNOWN</td>\n",
       "      <td>GOLD</td>\n",
       "      <td>5.850095</td>\n",
       "      <td>20.528692</td>\n",
       "      <td>192.561488</td>\n",
       "      <td>70.309761</td>\n",
       "    </tr>\n",
       "    <tr>\n",
       "      <th>4</th>\n",
       "      <td>FEMALE</td>\n",
       "      <td>GOLD</td>\n",
       "      <td>9.494127</td>\n",
       "      <td>22.802402</td>\n",
       "      <td>222.214040</td>\n",
       "      <td>60.950384</td>\n",
       "    </tr>\n",
       "    <tr>\n",
       "      <th>...</th>\n",
       "      <td>...</td>\n",
       "      <td>...</td>\n",
       "      <td>...</td>\n",
       "      <td>...</td>\n",
       "      <td>...</td>\n",
       "      <td>...</td>\n",
       "    </tr>\n",
       "    <tr>\n",
       "      <th>95</th>\n",
       "      <td>MALE</td>\n",
       "      <td>GOLD</td>\n",
       "      <td>11.226694</td>\n",
       "      <td>27.275676</td>\n",
       "      <td>274.174034</td>\n",
       "      <td>50.271436</td>\n",
       "    </tr>\n",
       "    <tr>\n",
       "      <th>96</th>\n",
       "      <td>FEMALE</td>\n",
       "      <td>PLATIN</td>\n",
       "      <td>6.735049</td>\n",
       "      <td>29.887002</td>\n",
       "      <td>255.558311</td>\n",
       "      <td>114.085957</td>\n",
       "    </tr>\n",
       "    <tr>\n",
       "      <th>97</th>\n",
       "      <td>FEMALE</td>\n",
       "      <td>SILVER</td>\n",
       "      <td>2.513149</td>\n",
       "      <td>8.309599</td>\n",
       "      <td>87.123156</td>\n",
       "      <td>56.830521</td>\n",
       "    </tr>\n",
       "    <tr>\n",
       "      <th>98</th>\n",
       "      <td>FEMALE</td>\n",
       "      <td>GOLD</td>\n",
       "      <td>8.870128</td>\n",
       "      <td>25.539612</td>\n",
       "      <td>157.459003</td>\n",
       "      <td>35.213236</td>\n",
       "    </tr>\n",
       "    <tr>\n",
       "      <th>99</th>\n",
       "      <td>FEMALE</td>\n",
       "      <td>GOLD</td>\n",
       "      <td>2.835128</td>\n",
       "      <td>19.599598</td>\n",
       "      <td>195.093369</td>\n",
       "      <td>108.866241</td>\n",
       "    </tr>\n",
       "  </tbody>\n",
       "</table>\n",
       "<p>100 rows × 6 columns</p>\n",
       "</div>"
      ],
      "text/plain": [
       "     GENDER MEMBERSHIP_STATUS  MEMBERSHIP_LENGTH  AVG_SESSION_LENGTH  \\\n",
       "0      MALE              GOLD           1.876116           19.088130   \n",
       "1      MALE              GOLD           4.134936           20.515335   \n",
       "2      MALE              GOLD           2.172417           20.262161   \n",
       "3   UNKNOWN              GOLD           5.850095           20.528692   \n",
       "4    FEMALE              GOLD           9.494127           22.802402   \n",
       "..      ...               ...                ...                 ...   \n",
       "95     MALE              GOLD          11.226694           27.275676   \n",
       "96   FEMALE            PLATIN           6.735049           29.887002   \n",
       "97   FEMALE            SILVER           2.513149            8.309599   \n",
       "98   FEMALE              GOLD           8.870128           25.539612   \n",
       "99   FEMALE              GOLD           2.835128           19.599598   \n",
       "\n",
       "    TIME_ON_APP  TIME_ON_WEBSITE  \n",
       "0    197.696670        85.172298  \n",
       "1    187.332228       107.133942  \n",
       "2    218.383329        64.196458  \n",
       "3    192.561488        70.309761  \n",
       "4    222.214040        60.950384  \n",
       "..          ...              ...  \n",
       "95   274.174034        50.271436  \n",
       "96   255.558311       114.085957  \n",
       "97    87.123156        56.830521  \n",
       "98   157.459003        35.213236  \n",
       "99   195.093369       108.866241  \n",
       "\n",
       "[100 rows x 6 columns]"
      ]
     },
     "execution_count": 11,
     "metadata": {},
     "output_type": "execute_result"
    }
   ],
   "source": [
    "snowdf_normalized.limit(100).to_pandas()"
   ]
  },
  {
   "cell_type": "code",
   "execution_count": 12,
   "metadata": {},
   "outputs": [
    {
     "data": {
      "text/html": [
       "<div>\n",
       "<style scoped>\n",
       "    .dataframe tbody tr th:only-of-type {\n",
       "        vertical-align: middle;\n",
       "    }\n",
       "\n",
       "    .dataframe tbody tr th {\n",
       "        vertical-align: top;\n",
       "    }\n",
       "\n",
       "    .dataframe thead th {\n",
       "        text-align: right;\n",
       "    }\n",
       "</style>\n",
       "<table border=\"1\" class=\"dataframe\">\n",
       "  <thead>\n",
       "    <tr style=\"text-align: right;\">\n",
       "      <th></th>\n",
       "      <th>SUMMARY</th>\n",
       "      <th>GENDER</th>\n",
       "      <th>MEMBERSHIP_STATUS</th>\n",
       "      <th>MEMBERSHIP_LENGTH</th>\n",
       "      <th>AVG_SESSION_LENGTH</th>\n",
       "      <th>TIME_ON_APP</th>\n",
       "      <th>TIME_ON_WEBSITE</th>\n",
       "    </tr>\n",
       "  </thead>\n",
       "  <tbody>\n",
       "    <tr>\n",
       "      <th>0</th>\n",
       "      <td>count</td>\n",
       "      <td>100000</td>\n",
       "      <td>100000</td>\n",
       "      <td>97651.000000</td>\n",
       "      <td>98571.000000</td>\n",
       "      <td>100000.000000</td>\n",
       "      <td>100000.000000</td>\n",
       "    </tr>\n",
       "    <tr>\n",
       "      <th>1</th>\n",
       "      <td>mean</td>\n",
       "      <td>None</td>\n",
       "      <td>None</td>\n",
       "      <td>4.516883</td>\n",
       "      <td>22.633535</td>\n",
       "      <td>180.404990</td>\n",
       "      <td>81.180553</td>\n",
       "    </tr>\n",
       "    <tr>\n",
       "      <th>2</th>\n",
       "      <td>stddev</td>\n",
       "      <td>None</td>\n",
       "      <td>None</td>\n",
       "      <td>2.274025</td>\n",
       "      <td>7.584742</td>\n",
       "      <td>70.979031</td>\n",
       "      <td>32.371648</td>\n",
       "    </tr>\n",
       "    <tr>\n",
       "      <th>3</th>\n",
       "      <td>max</td>\n",
       "      <td>UNKNOWN</td>\n",
       "      <td>SILVER</td>\n",
       "      <td>14.099797</td>\n",
       "      <td>54.616243</td>\n",
       "      <td>371.222991</td>\n",
       "      <td>174.284132</td>\n",
       "    </tr>\n",
       "    <tr>\n",
       "      <th>4</th>\n",
       "      <td>min</td>\n",
       "      <td>FEMALE</td>\n",
       "      <td>BASIC</td>\n",
       "      <td>0.000000</td>\n",
       "      <td>4.284894</td>\n",
       "      <td>-4.463542</td>\n",
       "      <td>-40.486104</td>\n",
       "    </tr>\n",
       "  </tbody>\n",
       "</table>\n",
       "</div>"
      ],
      "text/plain": [
       "  SUMMARY   GENDER MEMBERSHIP_STATUS  MEMBERSHIP_LENGTH  AVG_SESSION_LENGTH  \\\n",
       "0   count   100000            100000       97651.000000        98571.000000   \n",
       "1    mean     None              None           4.516883           22.633535   \n",
       "2  stddev     None              None           2.274025            7.584742   \n",
       "3     max  UNKNOWN            SILVER          14.099797           54.616243   \n",
       "4     min   FEMALE             BASIC           0.000000            4.284894   \n",
       "\n",
       "     TIME_ON_APP  TIME_ON_WEBSITE  \n",
       "0  100000.000000    100000.000000  \n",
       "1     180.404990        81.180553  \n",
       "2      70.979031        32.371648  \n",
       "3     371.222991       174.284132  \n",
       "4      -4.463542       -40.486104  "
      ]
     },
     "execution_count": 12,
     "metadata": {},
     "output_type": "execute_result"
    }
   ],
   "source": [
    "snowdf_normalized.describe().to_pandas()"
   ]
  },
  {
   "cell_type": "code",
   "execution_count": 13,
   "metadata": {},
   "outputs": [
    {
     "data": {
      "text/html": [
       "<div>\n",
       "<style scoped>\n",
       "    .dataframe tbody tr th:only-of-type {\n",
       "        vertical-align: middle;\n",
       "    }\n",
       "\n",
       "    .dataframe tbody tr th {\n",
       "        vertical-align: top;\n",
       "    }\n",
       "\n",
       "    .dataframe thead th {\n",
       "        text-align: right;\n",
       "    }\n",
       "</style>\n",
       "<table border=\"1\" class=\"dataframe\">\n",
       "  <thead>\n",
       "    <tr style=\"text-align: right;\">\n",
       "      <th></th>\n",
       "      <th>MEMBERSHIP_STATUS</th>\n",
       "      <th>AVG(MEMBERSHIP_LENGTH)</th>\n",
       "      <th>AVG(AVG_SESSION_LENGTH)</th>\n",
       "      <th>AVG(TIME_ON_APP)</th>\n",
       "      <th>AVG(TIME_ON_WEBSITE)</th>\n",
       "    </tr>\n",
       "  </thead>\n",
       "  <tbody>\n",
       "    <tr>\n",
       "      <th>0</th>\n",
       "      <td>GOLD</td>\n",
       "      <td>4.468512</td>\n",
       "      <td>23.588624</td>\n",
       "      <td>185.928445</td>\n",
       "      <td>76.336760</td>\n",
       "    </tr>\n",
       "    <tr>\n",
       "      <th>1</th>\n",
       "      <td>BRONZE</td>\n",
       "      <td>0.930013</td>\n",
       "      <td>9.303863</td>\n",
       "      <td>74.747224</td>\n",
       "      <td>50.170735</td>\n",
       "    </tr>\n",
       "    <tr>\n",
       "      <th>2</th>\n",
       "      <td>PLATIN</td>\n",
       "      <td>6.082646</td>\n",
       "      <td>27.506596</td>\n",
       "      <td>245.330088</td>\n",
       "      <td>111.529437</td>\n",
       "    </tr>\n",
       "    <tr>\n",
       "      <th>3</th>\n",
       "      <td>DIAMOND</td>\n",
       "      <td>7.355709</td>\n",
       "      <td>32.544706</td>\n",
       "      <td>291.616519</td>\n",
       "      <td>119.468171</td>\n",
       "    </tr>\n",
       "    <tr>\n",
       "      <th>4</th>\n",
       "      <td>SILVER</td>\n",
       "      <td>2.983750</td>\n",
       "      <td>15.712558</td>\n",
       "      <td>98.666420</td>\n",
       "      <td>61.347554</td>\n",
       "    </tr>\n",
       "    <tr>\n",
       "      <th>5</th>\n",
       "      <td>BASIC</td>\n",
       "      <td>0.536478</td>\n",
       "      <td>6.589827</td>\n",
       "      <td>51.291637</td>\n",
       "      <td>49.636810</td>\n",
       "    </tr>\n",
       "  </tbody>\n",
       "</table>\n",
       "</div>"
      ],
      "text/plain": [
       "  MEMBERSHIP_STATUS  AVG(MEMBERSHIP_LENGTH)  AVG(AVG_SESSION_LENGTH)  \\\n",
       "0              GOLD                4.468512                23.588624   \n",
       "1            BRONZE                0.930013                 9.303863   \n",
       "2            PLATIN                6.082646                27.506596   \n",
       "3           DIAMOND                7.355709                32.544706   \n",
       "4            SILVER                2.983750                15.712558   \n",
       "5             BASIC                0.536478                 6.589827   \n",
       "\n",
       "   AVG(TIME_ON_APP)  AVG(TIME_ON_WEBSITE)  \n",
       "0        185.928445             76.336760  \n",
       "1         74.747224             50.170735  \n",
       "2        245.330088            111.529437  \n",
       "3        291.616519            119.468171  \n",
       "4         98.666420             61.347554  \n",
       "5         51.291637             49.636810  "
      ]
     },
     "execution_count": 13,
     "metadata": {},
     "output_type": "execute_result"
    }
   ],
   "source": [
    "snowdf_normalized.groupBy(col(\"MEMBERSHIP_STATUS\")).avg(*num_attribs).to_pandas()"
   ]
  },
  {
   "cell_type": "markdown",
   "metadata": {},
   "source": [
    "## Train ML Model\n",
    "Create a stored procedure to push ML training to Snowpark"
   ]
  },
  {
   "cell_type": "code",
   "execution_count": 14,
   "metadata": {},
   "outputs": [],
   "source": [
    "snowdf_train, snowdf_test = snowdf.random_split([0.8, 0.2], seed=82) # use seed to make the split repeatable\n",
    "\n",
    "snowdf_train.write.mode(\"overwrite\").save_as_table(\"MEMBERSHIP_TRAIN\")\n",
    "snowdf_test.write.mode(\"overwrite\").save_as_table(\"MEMBERSHIP_TEST\")"
   ]
  },
  {
   "cell_type": "markdown",
   "metadata": {},
   "source": [
    "We use an sklearn pipeline for variable transformation. This entire pipeline gets serialized into `@MODELS/member_ltv_pipeline.joblib`, eliminating our need to do transformation on future datasets. "
   ]
  },
  {
   "cell_type": "code",
   "execution_count": 15,
   "metadata": {},
   "outputs": [
    {
     "name": "stdout",
     "output_type": "stream",
     "text": [
      "Overwriting transformers/json_normalizer.py\n"
     ]
    }
   ],
   "source": [
    "%%writefile transformers/json_normalizer.py\n",
    "from sklearn.base import BaseEstimator, TransformerMixin\n",
    "import pandas as pd\n",
    "\n",
    "class JSON_Normalizer(BaseEstimator, TransformerMixin):\n",
    "    #the constructor\n",
    "    def __init__(self):\n",
    "        None\n",
    "    #estimator method\n",
    "    def fit(self, X, y = None):\n",
    "        return self\n",
    "    #transfprmation\n",
    "    def transform(self, X, y = None):\n",
    "        #getting the three extra attributes by dividing appropriate attributes\n",
    "        return pd.json_normalize(X)"
   ]
  },
  {
   "cell_type": "code",
   "execution_count": 16,
   "metadata": {},
   "outputs": [],
   "source": [
    "def train_model(session: snowflake.snowpark.Session):\n",
    "        \n",
    "    from transformers.json_normalizer import JSON_Normalizer\n",
    "\n",
    "\n",
    "    ## take JSON and create structured table for training\n",
    "    snowdf = session.table(\"ECOMMERCE_CUSTOMERS_10K_JSON\")\n",
    "\n",
    "    # split the train and test set\n",
    "    snowdf_train, snowdf_test = snowdf.random_split([0.8, 0.2], seed=82) # use seed to make the split repeatable\n",
    "\n",
    "    # save the train and test sets as time stamped tables in Snowflake \n",
    "    snowdf_train.write.mode(\"overwrite\").save_as_table(\"MEMBERSHIP_TRAIN\")\n",
    "    snowdf_test.write.mode(\"overwrite\").save_as_table(\"MEMBERSHIP_TEST\")\n",
    "\n",
    "    # X datasets load raw JSON records which will be pivoted to columns as part of the pipeline\n",
    "    # this allows your pipeline to take raw JSON with no pre-transforms\n",
    "    X_train = snowdf_train.to_pandas()['JSON'].apply(json.loads)\n",
    "    Y_train = pd.json_normalize(snowdf_train.to_pandas()['JSON'].apply(json.loads))['YEARLY_SPENT']\n",
    "    X_test = snowdf_test.to_pandas()['JSON'].apply(json.loads)\n",
    "    Y_test = pd.json_normalize(snowdf_test.to_pandas()['JSON'].apply(json.loads))['YEARLY_SPENT']\n",
    "\n",
    "    \n",
    "    json_normalizer = JSON_Normalizer()\n",
    "    \n",
    "    # create a pipeline for numerical features\n",
    "    num_pipeline = Pipeline([\n",
    "            ('imputer', SimpleImputer(strategy=\"median\")),\n",
    "            ('std_scaler', StandardScaler())\n",
    "        ])\n",
    "\n",
    "    cat_pipeline = Pipeline([\n",
    "        (\"cat\", OneHotEncoder())\n",
    "    ])\n",
    "\n",
    "    preprocessor = ColumnTransformer([\n",
    "            (\"num\", num_pipeline, num_attribs),\n",
    "            (\"cat\", cat_pipeline, cat_attribs)\n",
    "        ])\n",
    "\n",
    "    full_pipeline = Pipeline([\n",
    "            ('json_norm', json_normalizer),\n",
    "            ('preprocessor', preprocessor),\n",
    "            ('model', RandomForestRegressor(n_estimators=100, random_state=42)),\n",
    "        ])\n",
    "\n",
    "    # fit the preprocessing pipeline and the model together\n",
    "    full_pipeline.fit(X_train, Y_train)\n",
    "\n",
    "    # save the full pipeline including the model\n",
    "    from joblib import dump\n",
    "    dump(full_pipeline, '/tmp/member_ltv_pipeline.joblib')\n",
    "    session.file.put('/tmp/member_ltv_pipeline.joblib', '@MODELS', auto_compress=False, overwrite=True)\n",
    "\n",
    "    # predict on the test set and return the root mean squared error (RMSE)\n",
    "    Y_pred = full_pipeline.predict(X_test)\n",
    "    lin_mse = mean_squared_error(Y_test, Y_pred)\n",
    "    lin_rmse = np.sqrt(lin_mse)\n",
    "    return lin_rmse\n",
    "\n",
    "# Create an instance of StoredProcedure using the sproc() function\n",
    "train_model_sp = sproc(train_model, replace=True, imports=['transformers'], return_type=T.FloatType())"
   ]
  },
  {
   "cell_type": "markdown",
   "metadata": {},
   "source": [
    "### Use high-memory warehouse for fitting our model."
   ]
  },
  {
   "cell_type": "code",
   "execution_count": 17,
   "metadata": {},
   "outputs": [
    {
     "name": "stdout",
     "output_type": "stream",
     "text": [
      "RMSE: 47.0296565174487\n"
     ]
    }
   ],
   "source": [
    "#use a snowpark-optimized high memory warehouse for model fitting\n",
    "session.sql(\"USE WAREHOUSE snowpark_demo_wh_high_mem\").collect()\n",
    "\n",
    "# run model training stored procedure\n",
    "rmse = train_model_sp()\n",
    "\n",
    "# switch back to standard warehouse\n",
    "session.sql(\"USE WAREHOUSE snowpark_demo_wh\").collect()\n",
    "\n",
    "print(f\"RMSE: {rmse}\")"
   ]
  },
  {
   "cell_type": "code",
   "execution_count": 18,
   "metadata": {},
   "outputs": [
    {
     "data": {
      "text/plain": [
       "[Row(name='models/member_ltv_pipeline.joblib', size=65481920, md5='6462a86041c24be51fc5408abb027e10', last_modified='Thu, 2 Feb 2023 15:49:56 GMT')]"
      ]
     },
     "execution_count": 18,
     "metadata": {},
     "output_type": "execute_result"
    }
   ],
   "source": [
    "session.sql('list  @models').collect()"
   ]
  },
  {
   "cell_type": "markdown",
   "metadata": {},
   "source": [
    "### Retrieve our model for additional analysis."
   ]
  },
  {
   "cell_type": "code",
   "execution_count": 19,
   "metadata": {},
   "outputs": [
    {
     "data": {
      "text/html": [
       "<style>#sk-container-id-1 {color: black;background-color: white;}#sk-container-id-1 pre{padding: 0;}#sk-container-id-1 div.sk-toggleable {background-color: white;}#sk-container-id-1 label.sk-toggleable__label {cursor: pointer;display: block;width: 100%;margin-bottom: 0;padding: 0.3em;box-sizing: border-box;text-align: center;}#sk-container-id-1 label.sk-toggleable__label-arrow:before {content: \"▸\";float: left;margin-right: 0.25em;color: #696969;}#sk-container-id-1 label.sk-toggleable__label-arrow:hover:before {color: black;}#sk-container-id-1 div.sk-estimator:hover label.sk-toggleable__label-arrow:before {color: black;}#sk-container-id-1 div.sk-toggleable__content {max-height: 0;max-width: 0;overflow: hidden;text-align: left;background-color: #f0f8ff;}#sk-container-id-1 div.sk-toggleable__content pre {margin: 0.2em;color: black;border-radius: 0.25em;background-color: #f0f8ff;}#sk-container-id-1 input.sk-toggleable__control:checked~div.sk-toggleable__content {max-height: 200px;max-width: 100%;overflow: auto;}#sk-container-id-1 input.sk-toggleable__control:checked~label.sk-toggleable__label-arrow:before {content: \"▾\";}#sk-container-id-1 div.sk-estimator input.sk-toggleable__control:checked~label.sk-toggleable__label {background-color: #d4ebff;}#sk-container-id-1 div.sk-label input.sk-toggleable__control:checked~label.sk-toggleable__label {background-color: #d4ebff;}#sk-container-id-1 input.sk-hidden--visually {border: 0;clip: rect(1px 1px 1px 1px);clip: rect(1px, 1px, 1px, 1px);height: 1px;margin: -1px;overflow: hidden;padding: 0;position: absolute;width: 1px;}#sk-container-id-1 div.sk-estimator {font-family: monospace;background-color: #f0f8ff;border: 1px dotted black;border-radius: 0.25em;box-sizing: border-box;margin-bottom: 0.5em;}#sk-container-id-1 div.sk-estimator:hover {background-color: #d4ebff;}#sk-container-id-1 div.sk-parallel-item::after {content: \"\";width: 100%;border-bottom: 1px solid gray;flex-grow: 1;}#sk-container-id-1 div.sk-label:hover label.sk-toggleable__label {background-color: #d4ebff;}#sk-container-id-1 div.sk-serial::before {content: \"\";position: absolute;border-left: 1px solid gray;box-sizing: border-box;top: 0;bottom: 0;left: 50%;z-index: 0;}#sk-container-id-1 div.sk-serial {display: flex;flex-direction: column;align-items: center;background-color: white;padding-right: 0.2em;padding-left: 0.2em;position: relative;}#sk-container-id-1 div.sk-item {position: relative;z-index: 1;}#sk-container-id-1 div.sk-parallel {display: flex;align-items: stretch;justify-content: center;background-color: white;position: relative;}#sk-container-id-1 div.sk-item::before, #sk-container-id-1 div.sk-parallel-item::before {content: \"\";position: absolute;border-left: 1px solid gray;box-sizing: border-box;top: 0;bottom: 0;left: 50%;z-index: -1;}#sk-container-id-1 div.sk-parallel-item {display: flex;flex-direction: column;z-index: 1;position: relative;background-color: white;}#sk-container-id-1 div.sk-parallel-item:first-child::after {align-self: flex-end;width: 50%;}#sk-container-id-1 div.sk-parallel-item:last-child::after {align-self: flex-start;width: 50%;}#sk-container-id-1 div.sk-parallel-item:only-child::after {width: 0;}#sk-container-id-1 div.sk-dashed-wrapped {border: 1px dashed gray;margin: 0 0.4em 0.5em 0.4em;box-sizing: border-box;padding-bottom: 0.4em;background-color: white;}#sk-container-id-1 div.sk-label label {font-family: monospace;font-weight: bold;display: inline-block;line-height: 1.2em;}#sk-container-id-1 div.sk-label-container {text-align: center;}#sk-container-id-1 div.sk-container {/* jupyter's `normalize.less` sets `[hidden] { display: none; }` but bootstrap.min.css set `[hidden] { display: none !important; }` so we also need the `!important` here to be able to override the default hidden behavior on the sphinx rendered scikit-learn.org. See: https://github.com/scikit-learn/scikit-learn/issues/21755 */display: inline-block !important;position: relative;}#sk-container-id-1 div.sk-text-repr-fallback {display: none;}</style><div id=\"sk-container-id-1\" class=\"sk-top-container\"><div class=\"sk-text-repr-fallback\"><pre>Pipeline(steps=[(&#x27;json_norm&#x27;, JSON_Normalizer()),\n",
       "                (&#x27;preprocessor&#x27;,\n",
       "                 ColumnTransformer(transformers=[(&#x27;num&#x27;,\n",
       "                                                  Pipeline(steps=[(&#x27;imputer&#x27;,\n",
       "                                                                   SimpleImputer(strategy=&#x27;median&#x27;)),\n",
       "                                                                  (&#x27;std_scaler&#x27;,\n",
       "                                                                   StandardScaler())]),\n",
       "                                                  [&#x27;MEMBERSHIP_LENGTH&#x27;,\n",
       "                                                   &#x27;AVG_SESSION_LENGTH&#x27;,\n",
       "                                                   &#x27;TIME_ON_APP&#x27;,\n",
       "                                                   &#x27;TIME_ON_WEBSITE&#x27;]),\n",
       "                                                 (&#x27;cat&#x27;,\n",
       "                                                  Pipeline(steps=[(&#x27;cat&#x27;,\n",
       "                                                                   OneHotEncoder())]),\n",
       "                                                  [&#x27;GENDER&#x27;,\n",
       "                                                   &#x27;MEMBERSHIP_STATUS&#x27;])])),\n",
       "                (&#x27;model&#x27;, RandomForestRegressor(random_state=42))])</pre><b>In a Jupyter environment, please rerun this cell to show the HTML representation or trust the notebook. <br />On GitHub, the HTML representation is unable to render, please try loading this page with nbviewer.org.</b></div><div class=\"sk-container\" hidden><div class=\"sk-item sk-dashed-wrapped\"><div class=\"sk-label-container\"><div class=\"sk-label sk-toggleable\"><input class=\"sk-toggleable__control sk-hidden--visually\" id=\"sk-estimator-id-1\" type=\"checkbox\" ><label for=\"sk-estimator-id-1\" class=\"sk-toggleable__label sk-toggleable__label-arrow\">Pipeline</label><div class=\"sk-toggleable__content\"><pre>Pipeline(steps=[(&#x27;json_norm&#x27;, JSON_Normalizer()),\n",
       "                (&#x27;preprocessor&#x27;,\n",
       "                 ColumnTransformer(transformers=[(&#x27;num&#x27;,\n",
       "                                                  Pipeline(steps=[(&#x27;imputer&#x27;,\n",
       "                                                                   SimpleImputer(strategy=&#x27;median&#x27;)),\n",
       "                                                                  (&#x27;std_scaler&#x27;,\n",
       "                                                                   StandardScaler())]),\n",
       "                                                  [&#x27;MEMBERSHIP_LENGTH&#x27;,\n",
       "                                                   &#x27;AVG_SESSION_LENGTH&#x27;,\n",
       "                                                   &#x27;TIME_ON_APP&#x27;,\n",
       "                                                   &#x27;TIME_ON_WEBSITE&#x27;]),\n",
       "                                                 (&#x27;cat&#x27;,\n",
       "                                                  Pipeline(steps=[(&#x27;cat&#x27;,\n",
       "                                                                   OneHotEncoder())]),\n",
       "                                                  [&#x27;GENDER&#x27;,\n",
       "                                                   &#x27;MEMBERSHIP_STATUS&#x27;])])),\n",
       "                (&#x27;model&#x27;, RandomForestRegressor(random_state=42))])</pre></div></div></div><div class=\"sk-serial\"><div class=\"sk-item\"><div class=\"sk-estimator sk-toggleable\"><input class=\"sk-toggleable__control sk-hidden--visually\" id=\"sk-estimator-id-2\" type=\"checkbox\" ><label for=\"sk-estimator-id-2\" class=\"sk-toggleable__label sk-toggleable__label-arrow\">JSON_Normalizer</label><div class=\"sk-toggleable__content\"><pre>JSON_Normalizer()</pre></div></div></div><div class=\"sk-item sk-dashed-wrapped\"><div class=\"sk-label-container\"><div class=\"sk-label sk-toggleable\"><input class=\"sk-toggleable__control sk-hidden--visually\" id=\"sk-estimator-id-3\" type=\"checkbox\" ><label for=\"sk-estimator-id-3\" class=\"sk-toggleable__label sk-toggleable__label-arrow\">preprocessor: ColumnTransformer</label><div class=\"sk-toggleable__content\"><pre>ColumnTransformer(transformers=[(&#x27;num&#x27;,\n",
       "                                 Pipeline(steps=[(&#x27;imputer&#x27;,\n",
       "                                                  SimpleImputer(strategy=&#x27;median&#x27;)),\n",
       "                                                 (&#x27;std_scaler&#x27;,\n",
       "                                                  StandardScaler())]),\n",
       "                                 [&#x27;MEMBERSHIP_LENGTH&#x27;, &#x27;AVG_SESSION_LENGTH&#x27;,\n",
       "                                  &#x27;TIME_ON_APP&#x27;, &#x27;TIME_ON_WEBSITE&#x27;]),\n",
       "                                (&#x27;cat&#x27;,\n",
       "                                 Pipeline(steps=[(&#x27;cat&#x27;, OneHotEncoder())]),\n",
       "                                 [&#x27;GENDER&#x27;, &#x27;MEMBERSHIP_STATUS&#x27;])])</pre></div></div></div><div class=\"sk-parallel\"><div class=\"sk-parallel-item\"><div class=\"sk-item\"><div class=\"sk-label-container\"><div class=\"sk-label sk-toggleable\"><input class=\"sk-toggleable__control sk-hidden--visually\" id=\"sk-estimator-id-4\" type=\"checkbox\" ><label for=\"sk-estimator-id-4\" class=\"sk-toggleable__label sk-toggleable__label-arrow\">num</label><div class=\"sk-toggleable__content\"><pre>[&#x27;MEMBERSHIP_LENGTH&#x27;, &#x27;AVG_SESSION_LENGTH&#x27;, &#x27;TIME_ON_APP&#x27;, &#x27;TIME_ON_WEBSITE&#x27;]</pre></div></div></div><div class=\"sk-serial\"><div class=\"sk-item\"><div class=\"sk-serial\"><div class=\"sk-item\"><div class=\"sk-estimator sk-toggleable\"><input class=\"sk-toggleable__control sk-hidden--visually\" id=\"sk-estimator-id-5\" type=\"checkbox\" ><label for=\"sk-estimator-id-5\" class=\"sk-toggleable__label sk-toggleable__label-arrow\">SimpleImputer</label><div class=\"sk-toggleable__content\"><pre>SimpleImputer(strategy=&#x27;median&#x27;)</pre></div></div></div><div class=\"sk-item\"><div class=\"sk-estimator sk-toggleable\"><input class=\"sk-toggleable__control sk-hidden--visually\" id=\"sk-estimator-id-6\" type=\"checkbox\" ><label for=\"sk-estimator-id-6\" class=\"sk-toggleable__label sk-toggleable__label-arrow\">StandardScaler</label><div class=\"sk-toggleable__content\"><pre>StandardScaler()</pre></div></div></div></div></div></div></div></div><div class=\"sk-parallel-item\"><div class=\"sk-item\"><div class=\"sk-label-container\"><div class=\"sk-label sk-toggleable\"><input class=\"sk-toggleable__control sk-hidden--visually\" id=\"sk-estimator-id-7\" type=\"checkbox\" ><label for=\"sk-estimator-id-7\" class=\"sk-toggleable__label sk-toggleable__label-arrow\">cat</label><div class=\"sk-toggleable__content\"><pre>[&#x27;GENDER&#x27;, &#x27;MEMBERSHIP_STATUS&#x27;]</pre></div></div></div><div class=\"sk-serial\"><div class=\"sk-item\"><div class=\"sk-serial\"><div class=\"sk-item\"><div class=\"sk-estimator sk-toggleable\"><input class=\"sk-toggleable__control sk-hidden--visually\" id=\"sk-estimator-id-8\" type=\"checkbox\" ><label for=\"sk-estimator-id-8\" class=\"sk-toggleable__label sk-toggleable__label-arrow\">OneHotEncoder</label><div class=\"sk-toggleable__content\"><pre>OneHotEncoder()</pre></div></div></div></div></div></div></div></div></div></div><div class=\"sk-item\"><div class=\"sk-estimator sk-toggleable\"><input class=\"sk-toggleable__control sk-hidden--visually\" id=\"sk-estimator-id-9\" type=\"checkbox\" ><label for=\"sk-estimator-id-9\" class=\"sk-toggleable__label sk-toggleable__label-arrow\">RandomForestRegressor</label><div class=\"sk-toggleable__content\"><pre>RandomForestRegressor(random_state=42)</pre></div></div></div></div></div></div></div>"
      ],
      "text/plain": [
       "Pipeline(steps=[('json_norm', JSON_Normalizer()),\n",
       "                ('preprocessor',\n",
       "                 ColumnTransformer(transformers=[('num',\n",
       "                                                  Pipeline(steps=[('imputer',\n",
       "                                                                   SimpleImputer(strategy='median')),\n",
       "                                                                  ('std_scaler',\n",
       "                                                                   StandardScaler())]),\n",
       "                                                  ['MEMBERSHIP_LENGTH',\n",
       "                                                   'AVG_SESSION_LENGTH',\n",
       "                                                   'TIME_ON_APP',\n",
       "                                                   'TIME_ON_WEBSITE']),\n",
       "                                                 ('cat',\n",
       "                                                  Pipeline(steps=[('cat',\n",
       "                                                                   OneHotEncoder())]),\n",
       "                                                  ['GENDER',\n",
       "                                                   'MEMBERSHIP_STATUS'])])),\n",
       "                ('model', RandomForestRegressor(random_state=42))])"
      ]
     },
     "execution_count": 19,
     "metadata": {},
     "output_type": "execute_result"
    }
   ],
   "source": [
    "def retrieve_model(stage_location):\n",
    "    import gzip \n",
    "    filename = stage_location.split('/')[-1]\n",
    "    session.file.get(stage_location, '.')\n",
    "    model_file = joblib.load(filename)\n",
    "\n",
    "    return model_file\n",
    "\n",
    "pipeline = retrieve_model(\"@MODELS/member_ltv_pipeline.joblib\")\n",
    "pipeline"
   ]
  },
  {
   "cell_type": "code",
   "execution_count": 20,
   "metadata": {},
   "outputs": [
    {
     "data": {
      "text/html": [
       "<div>\n",
       "<style scoped>\n",
       "    .dataframe tbody tr th:only-of-type {\n",
       "        vertical-align: middle;\n",
       "    }\n",
       "\n",
       "    .dataframe tbody tr th {\n",
       "        vertical-align: top;\n",
       "    }\n",
       "\n",
       "    .dataframe thead th {\n",
       "        text-align: right;\n",
       "    }\n",
       "</style>\n",
       "<table border=\"1\" class=\"dataframe\">\n",
       "  <thead>\n",
       "    <tr style=\"text-align: right;\">\n",
       "      <th></th>\n",
       "      <th>FEAT_IMPORTANCE</th>\n",
       "    </tr>\n",
       "  </thead>\n",
       "  <tbody>\n",
       "    <tr>\n",
       "      <th>TIME_ON_APP</th>\n",
       "      <td>0.763375</td>\n",
       "    </tr>\n",
       "    <tr>\n",
       "      <th>MEMBERSHIP_STATUS_DIAMOND</th>\n",
       "      <td>0.042592</td>\n",
       "    </tr>\n",
       "    <tr>\n",
       "      <th>AVG_SESSION_LENGTH</th>\n",
       "      <td>0.031576</td>\n",
       "    </tr>\n",
       "    <tr>\n",
       "      <th>TIME_ON_WEBSITE</th>\n",
       "      <td>0.030301</td>\n",
       "    </tr>\n",
       "    <tr>\n",
       "      <th>MEMBERSHIP_STATUS_BASIC</th>\n",
       "      <td>0.029173</td>\n",
       "    </tr>\n",
       "    <tr>\n",
       "      <th>MEMBERSHIP_LENGTH</th>\n",
       "      <td>0.026456</td>\n",
       "    </tr>\n",
       "    <tr>\n",
       "      <th>MEMBERSHIP_STATUS_BRONZE</th>\n",
       "      <td>0.023593</td>\n",
       "    </tr>\n",
       "    <tr>\n",
       "      <th>MEMBERSHIP_STATUS_PLATIN</th>\n",
       "      <td>0.023002</td>\n",
       "    </tr>\n",
       "    <tr>\n",
       "      <th>MEMBERSHIP_STATUS_GOLD</th>\n",
       "      <td>0.021444</td>\n",
       "    </tr>\n",
       "    <tr>\n",
       "      <th>MEMBERSHIP_STATUS_SILVER</th>\n",
       "      <td>0.004554</td>\n",
       "    </tr>\n",
       "    <tr>\n",
       "      <th>GENDER_FEMALE</th>\n",
       "      <td>0.001622</td>\n",
       "    </tr>\n",
       "    <tr>\n",
       "      <th>GENDER_MALE</th>\n",
       "      <td>0.001553</td>\n",
       "    </tr>\n",
       "    <tr>\n",
       "      <th>GENDER_UNKNOWN</th>\n",
       "      <td>0.000759</td>\n",
       "    </tr>\n",
       "  </tbody>\n",
       "</table>\n",
       "</div>"
      ],
      "text/plain": [
       "                           FEAT_IMPORTANCE\n",
       "TIME_ON_APP                       0.763375\n",
       "MEMBERSHIP_STATUS_DIAMOND         0.042592\n",
       "AVG_SESSION_LENGTH                0.031576\n",
       "TIME_ON_WEBSITE                   0.030301\n",
       "MEMBERSHIP_STATUS_BASIC           0.029173\n",
       "MEMBERSHIP_LENGTH                 0.026456\n",
       "MEMBERSHIP_STATUS_BRONZE          0.023593\n",
       "MEMBERSHIP_STATUS_PLATIN          0.023002\n",
       "MEMBERSHIP_STATUS_GOLD            0.021444\n",
       "MEMBERSHIP_STATUS_SILVER          0.004554\n",
       "GENDER_FEMALE                     0.001622\n",
       "GENDER_MALE                       0.001553\n",
       "GENDER_UNKNOWN                    0.000759"
      ]
     },
     "execution_count": 20,
     "metadata": {},
     "output_type": "execute_result"
    }
   ],
   "source": [
    "rfr = pipeline.named_steps['model']\n",
    "\n",
    "cat_attribs_transformed = list(pipeline.named_steps['preprocessor'].transformers_[1][1]\\\n",
    "   .named_steps['cat'].get_feature_names_out(cat_attribs))\n",
    "\n",
    "transformed_feature_names = num_attribs + cat_attribs_transformed \n",
    "\n",
    "pd.DataFrame(rfr.feature_importances_,\n",
    "             index=transformed_feature_names, \n",
    "             columns=[\"FEAT_IMPORTANCE\"]).sort_values(\"FEAT_IMPORTANCE\", ascending=False)"
   ]
  },
  {
   "cell_type": "code",
   "execution_count": 21,
   "metadata": {},
   "outputs": [
    {
     "data": {
      "text/plain": [
       "array([386.14759703])"
      ]
     },
     "execution_count": 21,
     "metadata": {},
     "output_type": "execute_result"
    }
   ],
   "source": [
    "sample_json = {\"AVG_SESSION_LENGTH\": 1.908812963760560e+01,\n",
    "               \"EMAIL\": \"4jx6famntt@v8caw.com\",\n",
    "               \"GENDER\": \"MALE\",\n",
    "               \"MEMBERSHIP_LENGTH\": 1.876116082413728e+00,\n",
    "               \"MEMBERSHIP_STATUS\": \"SILVER\",\n",
    "               \"TIME_ON_APP\": 1.976966698388652e+02,\n",
    "               \"TIME_ON_WEBSITE\": 2.517229813055825e+01}\n",
    "pipeline.predict(sample_json)"
   ]
  },
  {
   "cell_type": "markdown",
   "metadata": {},
   "source": [
    "## Deploy Model as UDF"
   ]
  },
  {
   "cell_type": "markdown",
   "metadata": {},
   "source": [
    "#### Option 1: Deploy as UDF"
   ]
  },
  {
   "cell_type": "code",
   "execution_count": 22,
   "metadata": {},
   "outputs": [],
   "source": [
    "@cached(cache={})\n",
    "def read_file(filename):\n",
    "    import_dir = sys._xoptions.get(\"snowflake_import_directory\")\n",
    "    m = joblib.load(os.path.join(import_dir, filename))\n",
    "    \n",
    "    return m\n",
    "\n",
    "def predict(JSON_VALUE):\n",
    "       m = read_file(\"member_ltv_pipeline.joblib\")\n",
    "       return m.predict(JSON_VALUE)[0]\n",
    "\n",
    "pred_udf = udf(predict, \n",
    "               name=\"predict_pipeline\", \n",
    "               is_permanent=True, \n",
    "               input_types=[T.VariantType()],\n",
    "               return_type = T.FloatType(),\n",
    "               stage_location=\"@udf\", \n",
    "               replace=True, \n",
    "               imports=['transformers', '@MODELS/member_ltv_pipeline.joblib'])"
   ]
  },
  {
   "cell_type": "code",
   "execution_count": 23,
   "metadata": {},
   "outputs": [],
   "source": [
    "inference_df = session.table(\"ECOMMERCE_CUSTOMERS_100K_JSON\")\n",
    "scored_df = inference_df.select(col(\"JSON\")[\"EMAIL\"].alias(\"EMAIL\"),\n",
    "                                col(\"JSON\"), \n",
    "                                F.call_udf(\"predict_pipeline\", \n",
    "                                           col(\"JSON\")\n",
    "                                          ).alias(\"PREDICTED_YEARLY_SPENT\")\n",
    "                               ).limit(100).to_pandas()"
   ]
  },
  {
   "cell_type": "code",
   "execution_count": 24,
   "metadata": {},
   "outputs": [
    {
     "data": {
      "text/html": [
       "<div>\n",
       "<style scoped>\n",
       "    .dataframe tbody tr th:only-of-type {\n",
       "        vertical-align: middle;\n",
       "    }\n",
       "\n",
       "    .dataframe tbody tr th {\n",
       "        vertical-align: top;\n",
       "    }\n",
       "\n",
       "    .dataframe thead th {\n",
       "        text-align: right;\n",
       "    }\n",
       "</style>\n",
       "<table border=\"1\" class=\"dataframe\">\n",
       "  <thead>\n",
       "    <tr style=\"text-align: right;\">\n",
       "      <th></th>\n",
       "      <th>EMAIL</th>\n",
       "      <th>JSON</th>\n",
       "      <th>PREDICTED_YEARLY_SPENT</th>\n",
       "    </tr>\n",
       "  </thead>\n",
       "  <tbody>\n",
       "    <tr>\n",
       "      <th>0</th>\n",
       "      <td>\"4jx6famntt@v8caw.com\"</td>\n",
       "      <td>{\\n  \"AVG_SESSION_LENGTH\": 1.908812963760560e+...</td>\n",
       "      <td>422.839122</td>\n",
       "    </tr>\n",
       "    <tr>\n",
       "      <th>1</th>\n",
       "      <td>\"fapk6sr7rk@bfjyn.com\"</td>\n",
       "      <td>{\\n  \"AVG_SESSION_LENGTH\": 2.051533536584287e+...</td>\n",
       "      <td>466.839576</td>\n",
       "    </tr>\n",
       "    <tr>\n",
       "      <th>2</th>\n",
       "      <td>\"gkmyoxydtg@lfsco.com\"</td>\n",
       "      <td>{\\n  \"AVG_SESSION_LENGTH\": 2.026216058545151e+...</td>\n",
       "      <td>450.849914</td>\n",
       "    </tr>\n",
       "    <tr>\n",
       "      <th>3</th>\n",
       "      <td>\"nrcdihhzp0@920gu.com\"</td>\n",
       "      <td>{\\n  \"AVG_SESSION_LENGTH\": 2.052869179339092e+...</td>\n",
       "      <td>458.531145</td>\n",
       "    </tr>\n",
       "    <tr>\n",
       "      <th>4</th>\n",
       "      <td>\"zikblq3pfe@fm6t9.com\"</td>\n",
       "      <td>{\\n  \"AVG_SESSION_LENGTH\": 2.280240170727906e+...</td>\n",
       "      <td>509.439224</td>\n",
       "    </tr>\n",
       "    <tr>\n",
       "      <th>...</th>\n",
       "      <td>...</td>\n",
       "      <td>...</td>\n",
       "      <td>...</td>\n",
       "    </tr>\n",
       "    <tr>\n",
       "      <th>95</th>\n",
       "      <td>\"frgw4qvqr7@inpph.com\"</td>\n",
       "      <td>{\\n  \"AVG_SESSION_LENGTH\": 2.727567630620153e+...</td>\n",
       "      <td>530.810840</td>\n",
       "    </tr>\n",
       "    <tr>\n",
       "      <th>96</th>\n",
       "      <td>\"0gedokamrd@0csjm.com\"</td>\n",
       "      <td>{\\n  \"AVG_SESSION_LENGTH\": 2.988700168582572e+...</td>\n",
       "      <td>595.755925</td>\n",
       "    </tr>\n",
       "    <tr>\n",
       "      <th>97</th>\n",
       "      <td>\"hc0lmy3jr2@okghl.com\"</td>\n",
       "      <td>{\\n  \"AVG_SESSION_LENGTH\": 8.309598674000878e+...</td>\n",
       "      <td>280.476326</td>\n",
       "    </tr>\n",
       "    <tr>\n",
       "      <th>98</th>\n",
       "      <td>\"e51a9zvp9u@z9gmp.com\"</td>\n",
       "      <td>{\\n  \"AVG_SESSION_LENGTH\": 2.553961243389771e+...</td>\n",
       "      <td>510.890309</td>\n",
       "    </tr>\n",
       "    <tr>\n",
       "      <th>99</th>\n",
       "      <td>\"mc1qb4yrfh@wqusr.com\"</td>\n",
       "      <td>{\\n  \"AVG_SESSION_LENGTH\": 1.959959803102452e+...</td>\n",
       "      <td>452.145218</td>\n",
       "    </tr>\n",
       "  </tbody>\n",
       "</table>\n",
       "<p>100 rows × 3 columns</p>\n",
       "</div>"
      ],
      "text/plain": [
       "                     EMAIL                                               JSON  \\\n",
       "0   \"4jx6famntt@v8caw.com\"  {\\n  \"AVG_SESSION_LENGTH\": 1.908812963760560e+...   \n",
       "1   \"fapk6sr7rk@bfjyn.com\"  {\\n  \"AVG_SESSION_LENGTH\": 2.051533536584287e+...   \n",
       "2   \"gkmyoxydtg@lfsco.com\"  {\\n  \"AVG_SESSION_LENGTH\": 2.026216058545151e+...   \n",
       "3   \"nrcdihhzp0@920gu.com\"  {\\n  \"AVG_SESSION_LENGTH\": 2.052869179339092e+...   \n",
       "4   \"zikblq3pfe@fm6t9.com\"  {\\n  \"AVG_SESSION_LENGTH\": 2.280240170727906e+...   \n",
       "..                     ...                                                ...   \n",
       "95  \"frgw4qvqr7@inpph.com\"  {\\n  \"AVG_SESSION_LENGTH\": 2.727567630620153e+...   \n",
       "96  \"0gedokamrd@0csjm.com\"  {\\n  \"AVG_SESSION_LENGTH\": 2.988700168582572e+...   \n",
       "97  \"hc0lmy3jr2@okghl.com\"  {\\n  \"AVG_SESSION_LENGTH\": 8.309598674000878e+...   \n",
       "98  \"e51a9zvp9u@z9gmp.com\"  {\\n  \"AVG_SESSION_LENGTH\": 2.553961243389771e+...   \n",
       "99  \"mc1qb4yrfh@wqusr.com\"  {\\n  \"AVG_SESSION_LENGTH\": 1.959959803102452e+...   \n",
       "\n",
       "    PREDICTED_YEARLY_SPENT  \n",
       "0               422.839122  \n",
       "1               466.839576  \n",
       "2               450.849914  \n",
       "3               458.531145  \n",
       "4               509.439224  \n",
       "..                     ...  \n",
       "95              530.810840  \n",
       "96              595.755925  \n",
       "97              280.476326  \n",
       "98              510.890309  \n",
       "99              452.145218  \n",
       "\n",
       "[100 rows x 3 columns]"
      ]
     },
     "execution_count": 24,
     "metadata": {},
     "output_type": "execute_result"
    }
   ],
   "source": [
    "scored_df"
   ]
  },
  {
   "cell_type": "markdown",
   "metadata": {},
   "source": [
    "#### Option 2: Deploy as Vectorized UDF\n",
    "We're using a vectorized UDF, which automatically splits up the rows and sends a batch to each UDF execution resulting in better throughput. Additionally, we're caching the model load from stage to decrease IO cost. "
   ]
  },
  {
   "cell_type": "code",
   "execution_count": null,
   "metadata": {},
   "outputs": [],
   "source": [
    "session.add_import(\"@MODELS/member_ltv_pipeline.joblib\")  \n",
    "\n",
    "def read_file(filename):\n",
    "    import_dir = sys._xoptions.get(\"snowflake_import_directory\")\n",
    "    m = joblib.load(os.path.join(import_dir, filename))\n",
    "    \n",
    "    return m\n",
    "\n",
    "@pandas_udf(name=\"predict_pipeline_batch\", \n",
    "            stage_location=\"@udf\", \n",
    "            max_batch_size=1000, \n",
    "            is_permanent=True, \n",
    "            replace=True,\n",
    "            imports=['transformers', '@MODELS/member_ltv_pipeline.joblib'])\n",
    "def predict_pipeline_batch(df: T.PandasSeries[dict]) -> T.PandasSeries[float]:\n",
    "       m = read_file(\"member_ltv_pipeline.joblib\") \n",
    "       return m.predict(df)"
   ]
  },
  {
   "cell_type": "markdown",
   "metadata": {},
   "source": [
    "### Run Inference UDF on 1 million records"
   ]
  },
  {
   "cell_type": "markdown",
   "metadata": {},
   "source": [
    "Now running the vectorized UDF"
   ]
  },
  {
   "cell_type": "code",
   "execution_count": null,
   "metadata": {},
   "outputs": [],
   "source": [
    "inference_df = session.table(\"ECOMMERCE_CUSTOMERS_1M_JSON\")\n",
    "\n",
    "scored_df = inference_df.select(\"*\", \n",
    "                                F.call_udf(\"predict_pipeline_batch\", \n",
    "                                            col(\"JSON\")\n",
    "                                          ).alias(\"PREDICTED_YEARLY_SPENT\")\n",
    "                               )\n",
    "scored_df.write.mode(\"OVERWRITE\").save_as_table(\"INFERED_DATA_1M\")\n",
    "    \n",
    "session.table(\"INFERED_DATA_1M\").limit(100).to_pandas()"
   ]
  },
  {
   "cell_type": "markdown",
   "metadata": {},
   "source": [
    "You could also run this in SQL"
   ]
  },
  {
   "cell_type": "code",
   "execution_count": null,
   "metadata": {},
   "outputs": [],
   "source": [
    "session.sql(\"\"\" create temp table pred_1m as \n",
    "                select predict_pipeline_batch(a.JSON) as prediction, \n",
    "                       a.* \n",
    "                from ECOMMERCE_CUSTOMERS_1M_JSON a\"\"\").collect()"
   ]
  },
  {
   "cell_type": "code",
   "execution_count": null,
   "metadata": {},
   "outputs": [],
   "source": [
    "\n",
    "session.sql(\"\"\"select * from pred_1m limit 100\"\"\").to_pandas()"
   ]
  }
 ],
 "metadata": {
  "kernelspec": {
   "display_name": "Python 3 (ipykernel)",
   "language": "python",
   "name": "python3"
  },
  "language_info": {
   "codemirror_mode": {
    "name": "ipython",
    "version": 3
   },
   "file_extension": ".py",
   "mimetype": "text/x-python",
   "name": "python",
   "nbconvert_exporter": "python",
   "pygments_lexer": "ipython3",
   "version": "3.8.15"
  },
  "vscode": {
   "interpreter": {
    "hash": "c3936427f812f8a3b02bf49cc509604512195fa3b84dfb4bd944ad6383ea3533"
   }
  }
 },
 "nbformat": 4,
 "nbformat_minor": 2
}
